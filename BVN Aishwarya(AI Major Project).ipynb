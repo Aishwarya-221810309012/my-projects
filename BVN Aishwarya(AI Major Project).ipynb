{
 "cells": [
  {
   "cell_type": "markdown",
   "id": "5d190afb",
   "metadata": {},
   "source": [
    "#  MAJOR PROJECT :- BUILD A NEURAL NETWORK TO CLASSIFY \"MASK\" AND \"WITHOUT_ MASK\" IMAGES "
   ]
  },
  {
   "cell_type": "code",
   "execution_count": 1,
   "id": "03afd9c4",
   "metadata": {},
   "outputs": [],
   "source": [
    "import cv2"
   ]
  },
  {
   "cell_type": "code",
   "execution_count": 2,
   "id": "6032f4cf",
   "metadata": {},
   "outputs": [],
   "source": [
    "import os"
   ]
  },
  {
   "cell_type": "code",
   "execution_count": 3,
   "id": "9c7540d4",
   "metadata": {},
   "outputs": [],
   "source": [
    "import numpy as np"
   ]
  },
  {
   "cell_type": "code",
   "execution_count": 4,
   "id": "3ee50549",
   "metadata": {},
   "outputs": [],
   "source": [
    "import tensorflow as tf"
   ]
  },
  {
   "cell_type": "code",
   "execution_count": 5,
   "id": "eda85c9f",
   "metadata": {},
   "outputs": [
    {
     "name": "stdout",
     "output_type": "stream",
     "text": [
      "['without_mask', 'with_mask']\n",
      "[0, 1]\n",
      "{'without_mask': 0, 'with_mask': 1}\n"
     ]
    }
   ],
   "source": [
    "\n",
    "path=r'C:/Users/pranay/Desktop/Masks/'\n",
    "Folder_name=os.listdir(path)\n",
    "labels=[i for i in range(len(Folder_name))]\n",
    "label_dict=dict(zip(Folder_name,labels))\n",
    "print(Folder_name)\n",
    "print(labels)\n",
    "print(label_dict)"
   ]
  },
  {
   "cell_type": "code",
   "execution_count": 6,
   "id": "ae4cf290",
   "metadata": {},
   "outputs": [],
   "source": [
    "h=32\n",
    "w=32\n",
    "features=[]\n",
    "target=[]\n",
    "for i in Folder_name:\n",
    "    folder_path=os.path.join(path,i)\n",
    "    img_names=os.listdir(folder_path)\n",
    "    \n",
    "    for j in img_names:\n",
    "        img_path=os.path.join(folder_path,j)\n",
    "        img=cv2.imread(img_path)\n",
    "        try:\n",
    "            gray=cv2.cvtColor(img,cv2.COLOR_BGR2GRAY)\n",
    "            resized=cv2.resize(gray,(h,w))\n",
    "            features.append(resized)\n",
    "            target.append(label_dict[i])\n",
    "            \n",
    "        except Exception as e:\n",
    "            print(\"Exception occured\",e)"
   ]
  },
  {
   "cell_type": "code",
   "execution_count": 7,
   "id": "7df3ab8a",
   "metadata": {},
   "outputs": [],
   "source": [
    "features=np.array(features)/255.0\n",
    "features=np.reshape(features,(features.shape[0],h,w,1))\n",
    "target=np.array(target)\n"
   ]
  },
  {
   "cell_type": "code",
   "execution_count": 8,
   "id": "5c949b58",
   "metadata": {},
   "outputs": [
    {
     "data": {
      "text/plain": [
       "(1376, 32, 32, 1)"
      ]
     },
     "execution_count": 8,
     "metadata": {},
     "output_type": "execute_result"
    }
   ],
   "source": [
    "features.shape\n"
   ]
  },
  {
   "cell_type": "code",
   "execution_count": 9,
   "id": "a37e46f2",
   "metadata": {},
   "outputs": [
    {
     "data": {
      "text/plain": [
       "(1376,)"
      ]
     },
     "execution_count": 9,
     "metadata": {},
     "output_type": "execute_result"
    }
   ],
   "source": [
    "target.shape"
   ]
  },
  {
   "cell_type": "markdown",
   "id": "e7b56c80",
   "metadata": {},
   "source": [
    "# Split the data into training and testing"
   ]
  },
  {
   "cell_type": "code",
   "execution_count": 10,
   "id": "9bd0e8e8",
   "metadata": {},
   "outputs": [],
   "source": [
    "from sklearn.model_selection import train_test_split"
   ]
  },
  {
   "cell_type": "code",
   "execution_count": 11,
   "id": "f3011f91",
   "metadata": {},
   "outputs": [],
   "source": [
    "train_features,test_features,train_target,test_target=train_test_split(features,target,test_size=0.2)"
   ]
  },
  {
   "cell_type": "code",
   "execution_count": 12,
   "id": "1a8bdce1",
   "metadata": {},
   "outputs": [
    {
     "data": {
      "text/plain": [
       "(1100, 32, 32, 1)"
      ]
     },
     "execution_count": 12,
     "metadata": {},
     "output_type": "execute_result"
    }
   ],
   "source": [
    "train_features.shape"
   ]
  },
  {
   "cell_type": "markdown",
   "id": "86b671b7",
   "metadata": {},
   "source": [
    "# Image Augmentation Techniques\n",
    "### 1. Rotation\n",
    "### 2. Width Shifting\n",
    "### 3. Height Shifting\n",
    "### 4. Shearing\n",
    "### 5. Zoom"
   ]
  },
  {
   "cell_type": "code",
   "execution_count": 13,
   "id": "b70bda63",
   "metadata": {},
   "outputs": [],
   "source": [
    "from tensorflow.keras.preprocessing.image import ImageDataGenerator"
   ]
  },
  {
   "cell_type": "code",
   "execution_count": 14,
   "id": "9db2cd47",
   "metadata": {},
   "outputs": [],
   "source": [
    "dataGen=ImageDataGenerator(rotation_range=10,width_shift_range=0.1,height_shift_range=0.1,shear_range=0.1,zoom_range=0.2)"
   ]
  },
  {
   "cell_type": "code",
   "execution_count": 15,
   "id": "7a29b5de",
   "metadata": {},
   "outputs": [],
   "source": [
    "dataGen.fit(train_features)"
   ]
  },
  {
   "cell_type": "code",
   "execution_count": 16,
   "id": "aef84493",
   "metadata": {},
   "outputs": [],
   "source": [
    "id=dataGen.flow(train_features,train_target,batch_size=20)"
   ]
  },
  {
   "cell_type": "code",
   "execution_count": 17,
   "id": "596072c2",
   "metadata": {},
   "outputs": [],
   "source": [
    "x_batch,y_batch=next(id)"
   ]
  },
  {
   "cell_type": "code",
   "execution_count": 18,
   "id": "207bbcec",
   "metadata": {},
   "outputs": [
    {
     "data": {
      "text/plain": [
       "(20, 32, 32, 1)"
      ]
     },
     "execution_count": 18,
     "metadata": {},
     "output_type": "execute_result"
    }
   ],
   "source": [
    "x_batch.shape"
   ]
  },
  {
   "cell_type": "code",
   "execution_count": 19,
   "id": "c946cc0e",
   "metadata": {},
   "outputs": [],
   "source": [
    "import matplotlib.pyplot as plt"
   ]
  },
  {
   "cell_type": "code",
   "execution_count": 20,
   "id": "d9a02be8",
   "metadata": {},
   "outputs": [
    {
     "data": {
      "image/png": "[encoded data removed]",
      "text/plain": [
       "<Figure size 720x720 with 20 Axes>"
      ]
     },
     "metadata": {
      "needs_background": "light"
     },
     "output_type": "display_data"
    }
   ],
   "source": [
    "plt.figure(figsize=(10,10))\n",
    "for i in range(20):\n",
    "    plt.subplot(4,5,i+1)\n",
    "    plt.imshow(x_batch[i].reshape(32,32))\n",
    "plt.show()"
   ]
  },
  {
   "cell_type": "markdown",
   "id": "cfbadaf4",
   "metadata": {},
   "source": [
    "# Since the target column has finite set of possibilities ,we have to build classification model.\n",
    "    1.Increase the number of neurons in output layer(One-Hot Encoding Technique)\n",
    "    2.Convert the values in neurons of output layer to probability values(Using activation function-softmax)       "
   ]
  },
  {
   "cell_type": "code",
   "execution_count": 21,
   "id": "d19eecd9",
   "metadata": {},
   "outputs": [],
   "source": [
    "from tensorflow.keras.utils import to_categorical\n",
    "train_target=to_categorical(train_target)"
   ]
  },
  {
   "cell_type": "code",
   "execution_count": 22,
   "id": "173e45de",
   "metadata": {},
   "outputs": [
    {
     "data": {
      "text/plain": [
       "(1100, 2)"
      ]
     },
     "execution_count": 22,
     "metadata": {},
     "output_type": "execute_result"
    }
   ],
   "source": [
    "train_target.shape"
   ]
  },
  {
   "cell_type": "markdown",
   "id": "a3b6ffe1",
   "metadata": {},
   "source": [
    "# STEP 1: SPECIFY THE ARCHITECTURE"
   ]
  },
  {
   "cell_type": "code",
   "execution_count": 23,
   "id": "c13d53a2",
   "metadata": {},
   "outputs": [],
   "source": [
    "from tensorflow.keras.layers import Dense,Flatten,Conv2D,MaxPooling2D,Dropout"
   ]
  },
  {
   "cell_type": "code",
   "execution_count": 24,
   "id": "48d39b7b",
   "metadata": {},
   "outputs": [],
   "source": [
    "from tensorflow.keras.models import Sequential"
   ]
  },
  {
   "cell_type": "code",
   "execution_count": 25,
   "id": "cc6ba1cf",
   "metadata": {},
   "outputs": [],
   "source": [
    "model=Sequential()\n",
    "model.add(Conv2D(60,(3,3),activation=\"relu\",input_shape=(32,32,1)))\n",
    "model.add(Conv2D(60,(3,3),activation=\"relu\"))\n",
    "model.add(MaxPooling2D((2,2)))\n",
    "model.add(Conv2D(60,(3,3),activation=\"relu\"))\n",
    "model.add(Conv2D(60,(3,3),activation=\"relu\"))\n",
    "model.add(MaxPooling2D((2,2)))\n",
    "model.add(Flatten())\n",
    "model.add(Dropout(0.5))\n",
    "model.add(Dense(500,activation=\"relu\"))\n",
    "model.add(Dense(2,activation=\"softmax\"))\n"
   ]
  },
  {
   "cell_type": "markdown",
   "id": "b17652e8",
   "metadata": {},
   "source": [
    "# STEP 2: COMPILE THE MODEL"
   ]
  },
  {
   "cell_type": "code",
   "execution_count": 26,
   "id": "c3f5b044",
   "metadata": {},
   "outputs": [],
   "source": [
    "from tensorflow.keras.optimizers import Adam\n"
   ]
  },
  {
   "cell_type": "code",
   "execution_count": 27,
   "id": "228f930f",
   "metadata": {},
   "outputs": [],
   "source": [
    "model.compile(Adam(lr=0.001),loss='categorical_crossentropy',metrics=[\"accuracy\"])"
   ]
  },
  {
   "cell_type": "markdown",
   "id": "29025856",
   "metadata": {},
   "source": [
    "# STEP 3: TRAIN THE MODEL ON THE TRAINING DATASET"
   ]
  },
  {
   "cell_type": "code",
   "execution_count": 28,
   "id": "7ad20b68",
   "metadata": {
    "scrolled": true
   },
   "outputs": [
    {
     "name": "stdout",
     "output_type": "stream",
     "text": [
      "WARNING:tensorflow:From <ipython-input-28-fed536c9e338>:1: Model.fit_generator (from tensorflow.python.keras.engine.training) is deprecated and will be removed in a future version.\n",
      "Instructions for updating:\n",
      "Please use Model.fit, which supports generators.\n",
      "Epoch 1/20\n",
      "55/55 [==============================] - 4s 67ms/step - loss: 0.6528 - accuracy: 0.5964\n",
      "Epoch 2/20\n",
      "55/55 [==============================] - 4s 67ms/step - loss: 0.4202 - accuracy: 0.8155\n",
      "Epoch 3/20\n",
      "55/55 [==============================] - 4s 68ms/step - loss: 0.2606 - accuracy: 0.8964\n",
      "Epoch 4/20\n",
      "55/55 [==============================] - 4s 68ms/step - loss: 0.2198 - accuracy: 0.9127\n",
      "Epoch 5/20\n",
      "55/55 [==============================] - 4s 68ms/step - loss: 0.1804 - accuracy: 0.9336\n",
      "Epoch 6/20\n",
      "55/55 [==============================] - 4s 68ms/step - loss: 0.1698 - accuracy: 0.9436\n",
      "Epoch 7/20\n",
      "55/55 [==============================] - 4s 68ms/step - loss: 0.1637 - accuracy: 0.9436\n",
      "Epoch 8/20\n",
      "55/55 [==============================] - 4s 69ms/step - loss: 0.1329 - accuracy: 0.9509\n",
      "Epoch 9/20\n",
      "55/55 [==============================] - 4s 70ms/step - loss: 0.1113 - accuracy: 0.9636\n",
      "Epoch 10/20\n",
      "55/55 [==============================] - 4s 71ms/step - loss: 0.1144 - accuracy: 0.9582\n",
      "Epoch 11/20\n",
      "55/55 [==============================] - 4s 72ms/step - loss: 0.1064 - accuracy: 0.9682\n",
      "Epoch 12/20\n",
      "55/55 [==============================] - 4s 71ms/step - loss: 0.1635 - accuracy: 0.9400\n",
      "Epoch 13/20\n",
      "55/55 [==============================] - 4s 71ms/step - loss: 0.1156 - accuracy: 0.9664\n",
      "Epoch 14/20\n",
      "55/55 [==============================] - 4s 71ms/step - loss: 0.1002 - accuracy: 0.9655\n",
      "Epoch 15/20\n",
      "55/55 [==============================] - 4s 71ms/step - loss: 0.0995 - accuracy: 0.9709\n",
      "Epoch 16/20\n",
      "55/55 [==============================] - 4s 71ms/step - loss: 0.0814 - accuracy: 0.9764\n",
      "Epoch 17/20\n",
      "55/55 [==============================] - 4s 71ms/step - loss: 0.1060 - accuracy: 0.9636\n",
      "Epoch 18/20\n",
      "55/55 [==============================] - 4s 71ms/step - loss: 0.1307 - accuracy: 0.9509\n",
      "Epoch 19/20\n",
      "55/55 [==============================] - 4s 71ms/step - loss: 0.0819 - accuracy: 0.9755\n",
      "Epoch 20/20\n",
      "55/55 [==============================] - 4s 71ms/step - loss: 0.1304 - accuracy: 0.9518\n"
     ]
    },
    {
     "data": {
      "text/plain": [
       "<tensorflow.python.keras.callbacks.History at 0x24879da9400>"
      ]
     },
     "execution_count": 28,
     "metadata": {},
     "output_type": "execute_result"
    }
   ],
   "source": [
    "model.fit_generator(dataGen.flow(train_features,train_target,batch_size=20),epochs=20)"
   ]
  },
  {
   "cell_type": "code",
   "execution_count": 30,
   "id": "98cdc7bb",
   "metadata": {},
   "outputs": [],
   "source": [
    "from tensorflow.keras.models import model_from_json"
   ]
  },
  {
   "cell_type": "code",
   "execution_count": 31,
   "id": "872882da",
   "metadata": {},
   "outputs": [],
   "source": [
    "file=open('C:/Users/pranay/Desktop/MasksTest.json',\"w\")\n",
    "model_json=model.to_json()\n",
    "file.write(model_json)\n",
    "file.close()"
   ]
  },
  {
   "cell_type": "code",
   "execution_count": 32,
   "id": "9606e10c",
   "metadata": {},
   "outputs": [],
   "source": [
    "model.save_weights('C:/Users/pranay/Desktop/MasksTestWeight.h5')"
   ]
  },
  {
   "cell_type": "code",
   "execution_count": 33,
   "id": "d95efc7c",
   "metadata": {},
   "outputs": [],
   "source": [
    "file=open('C:/Users/pranay/Desktop/MasksTest.json','r')\n",
    "loaded_model_json=file.read()\n",
    "loaded_model=model_from_json(loaded_model_json)"
   ]
  },
  {
   "cell_type": "code",
   "execution_count": 34,
   "id": "ff490f0a",
   "metadata": {},
   "outputs": [],
   "source": [
    "loaded_model.load_weights('C:/Users/pranay/Desktop/MasksTestWeight.h5')"
   ]
  },
  {
   "cell_type": "markdown",
   "id": "ce77e4a6",
   "metadata": {},
   "source": [
    "# STEP 4:TEST THE MODEL BY USING IT FOR PREDICTIONS"
   ]
  },
  {
   "cell_type": "code",
   "execution_count": 35,
   "id": "dc0a4ede",
   "metadata": {},
   "outputs": [],
   "source": [
    "face_clsfr=cv2.CascadeClassifier('C:/Users/pranay/Desktop/haarcascade_frontalface_default.xml')"
   ]
  },
  {
   "cell_type": "code",
   "execution_count": 36,
   "id": "e4e4242d",
   "metadata": {},
   "outputs": [],
   "source": [
    "cap=cv2.VideoCapture(0)\n"
   ]
  },
  {
   "cell_type": "code",
   "execution_count": 37,
   "id": "1d9cf7c0",
   "metadata": {},
   "outputs": [],
   "source": [
    "labels_dict={0:'non-masked',1:'masked'}\n",
    "color_dict={0:(0,0,255),1:(0,255,0)}"
   ]
  },
  {
   "cell_type": "code",
   "execution_count": 38,
   "id": "0711ea07",
   "metadata": {},
   "outputs": [],
   "source": [
    "while True:\n",
    "    message,pixels=cap.read()\n",
    "    gray=cv2.cvtColor(pixels,cv2.COLOR_BGR2GRAY)\n",
    "    faces=face_clsfr.detectMultiScale(gray,1.3,5)\n",
    "    for x,y,w,h in faces:\n",
    "        face_img=gray[y:y+w,x:x+w]\n",
    "        resized=cv2.resize(face_img,(32,32))\n",
    "        normalized=resized/255.0\n",
    "        reshaped=np.reshape(normalized,(1,32,32,1))\n",
    "        result=loaded_model.predict(reshaped)\n",
    "        \n",
    "        label=np.argmax(result,axis=1)[0]\n",
    "        cv2.rectangle(pixels,(x,y),(x+w,y+h),color_dict[label],2)\n",
    "        cv2.rectangle(pixels,(x,y-30),(x+w,y),color_dict[label],-1)\n",
    "        cv2.putText(pixels,labels_dict[label],(x,y-10),cv2.FONT_HERSHEY_SIMPLEX,0.8,(255,255,255),2)\n",
    "        \n",
    "        \n",
    "    cv2.imshow('PREDICTIONS',pixels)\n",
    "    characterAscii=cv2.waitKey(1)\n",
    "    if characterAscii==ord(\"p\"):\n",
    "        cv2.destroyAllWindows()\n",
    "        break\n",
    "      "
   ]
  },
  {
   "cell_type": "code",
   "execution_count": null,
   "id": "8d8d72c8",
   "metadata": {},
   "outputs": [],
   "source": []
  }
 ],
 "metadata": {
  "kernelspec": {
   "display_name": "Python 3",
   "language": "python",
   "name": "python3"
  },
  "language_info": {
   "codemirror_mode": {
    "name": "ipython",
    "version": 3
   },
   "file_extension": ".py",
   "mimetype": "text/x-python",
   "name": "python",
   "nbconvert_exporter": "python",
   "pygments_lexer": "ipython3",
   "version": "3.8.8"
  }
 },
 "nbformat": 4,
 "nbformat_minor": 5
}
